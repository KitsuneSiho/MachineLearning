{
  "nbformat": 4,
  "nbformat_minor": 0,
  "metadata": {
    "colab": {
      "provenance": []
    },
    "kernelspec": {
      "name": "python3",
      "display_name": "Python 3"
    },
    "language_info": {
      "name": "python"
    }
  },
  "cells": [
    {
      "cell_type": "code",
      "execution_count": null,
      "metadata": {
        "id": "5nBnZEtsrQ11"
      },
      "outputs": [],
      "source": [
        "def fitness_function(board):\n",
        "  fitness = 0\n",
        "\n",
        "  for row in range(8):\n",
        "      for col in range(8):\n",
        "          if board[row][col] == 1:  # 현재위치에 퀸이 있을때\n",
        "              for i in range(8): #가로방향 위협검사사\n",
        "                  if i != col and board[row][i] == 1:  #현재열이 아닌 다른열에 퀸이 있는경우\n",
        "                      fitness -= 1\n",
        "\n",
        "              for i in range(8): #세로방향 위협검사\n",
        "                  if i != row and board[i][col] == 1:  # 현재행이 아닌 다른행에 퀸이 있는경우\n",
        "                      fitness -= 1\n",
        "\n",
        "              i, j = row-1, col-1 #왼쪽 위 대각선 방향 위협 검사\n",
        "              while i >= 0 and j >= 0:\n",
        "                  if board[i][j] == 1:\n",
        "                      fitness -= 1\n",
        "                  i -= 1\n",
        "                  j -= 1\n",
        "\n",
        "              i, j = row+1, col-1 #왼쪽 아래 대각선 방향 위협 검사\n",
        "              while i < 8 and j >= 0:\n",
        "                  if board[i][j] == 1:\n",
        "                      fitness -= 1\n",
        "                  i += 1\n",
        "                  j -= 1\n",
        "\n",
        "              i, j = row-1, col+1 #오른쪽 위 대각선 방향 위협 검사\n",
        "              while i >= 0 and j < 8:\n",
        "                  if board[i][j] == 1:\n",
        "                      fitness -= 1\n",
        "                  i -= 1\n",
        "                  j += 1\n",
        "\n",
        "              i, j = row+1, col+1 #오른쪽 아래 대각선 방향 위협 검사\n",
        "              while i < 8 and j < 8:\n",
        "                  if board[i][j] == 1:\n",
        "                      fitness -= 1\n",
        "                  i += 1\n",
        "                  j += 1\n",
        "\n",
        "  return fitness"
      ]
    },
    {
      "cell_type": "code",
      "source": [
        "board = [ #2차원배열 형태의 체스판\n",
        "    [0, 0, 0, 1, 0, 0, 0, 0],\n",
        "    [0, 0, 0, 0, 0, 0, 1, 0],\n",
        "    [0, 0, 1, 0, 0, 0, 0, 0],\n",
        "    [0, 0, 0, 0, 0, 0, 0, 1],\n",
        "    [0, 1, 0, 0, 0, 0, 0, 0],\n",
        "    [0, 0, 0, 0, 1, 0, 0, 0],\n",
        "    [1, 0, 0, 0, 0, 0, 0, 0],\n",
        "    [0, 0, 0, 0, 0, 1, 0, 0]\n",
        "] #위 배치에서 '1' 은 퀸을 뜻합니다. 위 체스판에 배치된 퀸은 해답중 하나이다.\n",
        "\n",
        "fitness = fitness_function(board)\n",
        "print(\"Fitness: \", fitness) #퀸의 공격방향이 서로 겹친다면 적함도는 음수로 나타난다. 하지만 위 체스판에 놓인 퀸은 서로 공격방향이 겹치지 않으므로 적합도는 0이 된다."
      ],
      "metadata": {
        "colab": {
          "base_uri": "https://localhost:8080/"
        },
        "id": "2-rKsw3UrfCk",
        "outputId": "141aa2c6-8bb3-4760-f59d-ab29ef8268d7"
      },
      "execution_count": null,
      "outputs": [
        {
          "output_type": "stream",
          "name": "stdout",
          "text": [
            "Fitness:  0\n"
          ]
        }
      ]
    }
  ]
}