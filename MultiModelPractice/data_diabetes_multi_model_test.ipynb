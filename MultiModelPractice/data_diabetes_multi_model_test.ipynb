{
  "nbformat": 4,
  "nbformat_minor": 0,
  "metadata": {
    "colab": {
      "provenance": []
    },
    "kernelspec": {
      "name": "python3",
      "display_name": "Python 3"
    },
    "language_info": {
      "name": "python"
    }
  },
  "cells": [
    {
      "cell_type": "code",
      "execution_count": null,
      "metadata": {
        "colab": {
          "base_uri": "https://localhost:8080/"
        },
        "id": "BAE3QfYcllzu",
        "outputId": "74bba647-9953-4970-b0dd-b3a961340145"
      },
      "outputs": [
        {
          "output_type": "stream",
          "name": "stdout",
          "text": [
            "Linear Regression - MSE: 3424.26\n",
            "Random Forest - MSE: 3760.01\n",
            "Support Vector Regression - MSE: 4565.41\n",
            "Multi-Layer Perceptron - MSE: 9202.85\n",
            "Decision Tree - MSE: 7063.84\n",
            "K-Nearest Neighbors - MSE: 4281.70\n"
          ]
        },
        {
          "output_type": "stream",
          "name": "stderr",
          "text": [
            "/usr/local/lib/python3.9/dist-packages/sklearn/neural_network/_multilayer_perceptron.py:686: ConvergenceWarning: Stochastic Optimizer: Maximum iterations (200) reached and the optimization hasn't converged yet.\n",
            "  warnings.warn(\n"
          ]
        }
      ],
      "source": [
        "from sklearn.linear_model import LinearRegression\n",
        "from sklearn.ensemble import RandomForestRegressor\n",
        "from sklearn.svm import SVR\n",
        "from sklearn.neural_network import MLPRegressor\n",
        "from sklearn.tree import DecisionTreeRegressor\n",
        "from sklearn.neighbors import KNeighborsRegressor\n",
        "from sklearn.metrics import mean_squared_error\n",
        "from sklearn import datasets\n",
        "from sklearn.model_selection import train_test_split\n",
        "\n",
        "from sklearn.preprocessing import MinMaxScaler\n",
        "\n",
        "# 데이터셋 로드\n",
        "diabetes = datasets.load_diabetes()\n",
        "\n",
        "scaler = MinMaxScaler()\n",
        "X_scaled = scaler.fit_transform(diabetes.data)\n",
        "\n",
        "# 학습/테스트 데이터셋 분리\n",
        "train_x, test_x, train_y, test_y = train_test_split(X_scaled, diabetes.target, test_size=0.2, random_state=0)\n",
        "\n",
        "# 모델 학습\n",
        "models = [LinearRegression(), RandomForestRegressor(random_state=0), SVR(kernel='rbf'), MLPRegressor(random_state=0), DecisionTreeRegressor(random_state=0), KNeighborsRegressor()]\n",
        "model_names = ['Linear Regression', 'Random Forest', 'Support Vector Regression', 'Multi-Layer Perceptron', 'Decision Tree', 'K-Nearest Neighbors']\n",
        "for i, model in enumerate(models):\n",
        "    model.fit(train_x, train_y)\n",
        "    pred_y = model.predict(test_x)\n",
        "    mse = mean_squared_error(test_y, pred_y)\n",
        "    print(f\"{model_names[i]} - MSE: {mse:.2f}\")"
      ]
    }
  ]
}