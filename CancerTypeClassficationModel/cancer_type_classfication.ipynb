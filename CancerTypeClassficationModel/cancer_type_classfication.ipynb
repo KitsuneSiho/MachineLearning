{
  "nbformat": 4,
  "nbformat_minor": 0,
  "metadata": {
    "colab": {
      "provenance": [],
      "gpuType": "T4"
    },
    "kernelspec": {
      "name": "python3",
      "display_name": "Python 3"
    },
    "language_info": {
      "name": "python"
    },
    "accelerator": "GPU"
  },
  "cells": [
    {
      "cell_type": "code",
      "source": [
        "import pandas as pd\n",
        "from sklearn.model_selection import train_test_split\n",
        "from sklearn.ensemble import RandomForestClassifier\n",
        "from sklearn.metrics import classification_report\n",
        "from sklearn.impute import SimpleImputer\n",
        "from sklearn.compose import ColumnTransformer\n",
        "from sklearn.pipeline import Pipeline\n",
        "from sklearn.preprocessing import StandardScaler, LabelEncoder\n",
        "import joblib"
      ],
      "metadata": {
        "id": "Y5AWhOEZezdf"
      },
      "execution_count": null,
      "outputs": []
    },
    {
      "cell_type": "code",
      "source": [
        "# CSV 파일 불러오기\n",
        "data = pd.read_csv('/content/drive/MyDrive/2023 AI/Final Project/Final_Train/FINAL_TRAIN_V4.csv')"
      ],
      "metadata": {
        "id": "Nxzf7bJte8gr"
      },
      "execution_count": null,
      "outputs": []
    },
    {
      "cell_type": "code",
      "source": [
        "# 학습에 사용할 특성 선택 (나이, 유전체 정보)\n",
        "features = ['AGE', 'SEX', 'CENTER', 'ABL1', 'ABL2', 'HRAS', 'NRAS', 'KRAS','CDH10', 'CDH11', 'EGFR', 'HERC2', 'ALK', 'CTNNB1', 'BRAF', 'CDKN2A', 'MITF', 'APC', 'IDH1', 'ATRX']\n",
        "\n",
        "# 암 종류를 예측할 타겟 선택\n",
        "target = 'CANCER_TYPE_ACRONYM'\n",
        "\n",
        "# 특성과 타겟 데이터 분할\n",
        "X = data[features]\n",
        "y = data[target]"
      ],
      "metadata": {
        "id": "JYfHMoeGf7uf"
      },
      "execution_count": null,
      "outputs": []
    },
    {
      "cell_type": "code",
      "source": [
        "preprocessor = ColumnTransformer([\n",
        "    ('num_imputer', SimpleImputer(strategy='mean'), ['AGE', 'ABL1', 'ABL2', 'HRAS', 'NRAS', 'KRAS','CDH10', 'CDH11', 'EGFR', 'HERC2', 'ALK', 'CTNNB1', 'BRAF', 'CDKN2A', 'MITF', 'APC', 'IDH1', 'ATRX']),\n",
        "    ('cat_imputer', SimpleImputer(strategy='most_frequent'), ['SEX']),\n",
        "])\n",
        "\n",
        "# SEX 열을 숫자로 변환하기 위한 LabelEncoder 생성\n",
        "sex_encoder = LabelEncoder()\n",
        "\n",
        "# SEX 열 변환을 위한 라벨 인코딩\n",
        "X['SEX'] = sex_encoder.fit_transform(X['SEX'])\n",
        "\n",
        "# 머신 러닝 파이프라인 생성\n",
        "pipeline = Pipeline([\n",
        "    ('preprocessor', preprocessor),\n",
        "    ('scaler', StandardScaler(with_mean=False)),\n",
        "    ('classifier', RandomForestClassifier()),\n",
        "])\n"
      ],
      "metadata": {
        "id": "i9r2vMnmgEjY",
        "outputId": "8fa5c5f8-d3ec-40fc-b4a2-6c04ca99b31e",
        "colab": {
          "base_uri": "https://localhost:8080/"
        }
      },
      "execution_count": null,
      "outputs": [
        {
          "output_type": "stream",
          "name": "stderr",
          "text": [
            "<ipython-input-31-e35d2209dad5>:10: SettingWithCopyWarning: \n",
            "A value is trying to be set on a copy of a slice from a DataFrame.\n",
            "Try using .loc[row_indexer,col_indexer] = value instead\n",
            "\n",
            "See the caveats in the documentation: https://pandas.pydata.org/pandas-docs/stable/user_guide/indexing.html#returning-a-view-versus-a-copy\n",
            "  X['SEX'] = sex_encoder.fit_transform(X['SEX'])\n"
          ]
        }
      ]
    },
    {
      "cell_type": "code",
      "source": [
        "# 데이터를 학습 세트와 테스트 세트로 분할\n",
        "X_train, X_test, y_train, y_test = train_test_split(X, y, test_size=0.05, random_state=42)\n",
        "\n",
        "# 모델 학습\n",
        "pipeline.fit(X_train, y_train)\n",
        "\n",
        "# 학습된 모델로 테스트 데이터 예측\n",
        "predictions = pipeline.predict(X_test)\n",
        "\n",
        "# 분류 보고서 출력\n",
        "print(classification_report(y_test, predictions))"
      ],
      "metadata": {
        "colab": {
          "base_uri": "https://localhost:8080/"
        },
        "id": "cfVY2aoXgQVM",
        "outputId": "af8e9777-a844-4a54-ba63-bc4dfa9b5ec3"
      },
      "execution_count": null,
      "outputs": [
        {
          "output_type": "stream",
          "name": "stdout",
          "text": [
            "              precision    recall  f1-score   support\n",
            "\n",
            "        COAD       1.00      0.74      0.85        19\n",
            "         LGG       0.83      0.76      0.79        25\n",
            "        LIHC       0.94      0.88      0.91        17\n",
            "        LUAD       0.62      0.93      0.75        30\n",
            "        SKCM       0.74      0.64      0.68        22\n",
            "        STAD       0.79      0.61      0.69        18\n",
            "\n",
            "    accuracy                           0.77       131\n",
            "   macro avg       0.82      0.76      0.78       131\n",
            "weighted avg       0.80      0.77      0.77       131\n",
            "\n"
          ]
        }
      ]
    },
    {
      "cell_type": "code",
      "source": [
        "# 학습된 모델 저장\n",
        "joblib.dump(pipeline, 'cancer_prediction_model.joblib')\n",
        "\n",
        "# 새로운 데이터 파일 불러오기\n",
        "new_data = pd.read_csv('/content/drive/MyDrive/2023 AI/Final Project/Final_Test/FINAL_TEST_V4.csv')\n",
        "\n",
        "\n",
        "# 예측에 사용할 특성 선택\n",
        "new_features = ['AGE', 'SEX', 'ABL1', 'ABL2', 'HRAS', 'NRAS', 'KRAS','CDH10', 'CDH11', 'EGFR', 'HERC2', 'ALK', 'CTNNB1', 'BRAF', 'CDKN2A', 'MITF', 'APC', 'IDH1', 'ATRX']\n",
        "# SEX 열 변환을 위한 라벨 인코딩\n",
        "new_data['SEX'] = sex_encoder.transform(new_data['SEX'])\n",
        "# 새로운 데이터 예측\n",
        "new_predictions = pipeline.predict(new_data[new_features])\n",
        "\n",
        "# 예측 결과 출력\n",
        "print(new_predictions)\n",
        "\n",
        "# 예측 결과를 데이터프레임으로 생성\n",
        "predictions_df = pd.DataFrame({'PATIENT_ID': new_data['PATIENT_ID'], 'CANCER_TYPE': new_predictions})\n",
        "\n",
        "# 예측 결과를 CSV 파일로 저장\n",
        "predictions_df.to_csv('/content/drive/MyDrive/2023 AI/Final Project/RESULT/predicted_results_F1.csv')\n"
      ],
      "metadata": {
        "colab": {
          "base_uri": "https://localhost:8080/"
        },
        "id": "uaZRhUkFoOWw",
        "outputId": "9f763cfb-05b8-4f46-bd85-da1a310b5bd8"
      },
      "execution_count": null,
      "outputs": [
        {
          "output_type": "stream",
          "name": "stdout",
          "text": [
            "['LUAD' 'LUAD' 'LGG' 'LIHC' 'STAD' 'STAD' 'STAD' 'STAD' 'STAD' 'STAD'\n",
            " 'LUAD' 'LUAD' 'SKCM' 'LGG' 'LUAD' 'COAD' 'LUAD' 'STAD' 'LUAD' 'LUAD'\n",
            " 'LGG' 'LUAD' 'LUAD' 'LIHC' 'LUAD' 'LIHC' 'LIHC' 'LGG' 'LIHC' 'LIHC'\n",
            " 'COAD' 'LIHC' 'LUAD' 'STAD' 'LIHC' 'LIHC' 'COAD' 'COAD' 'COAD' 'COAD'\n",
            " 'LUAD' 'COAD' 'LGG' 'SKCM' 'LUAD' 'COAD' 'LUAD' 'LGG' 'LGG' 'SKCM' 'LGG'\n",
            " 'LGG' 'LGG' 'LGG' 'LIHC' 'COAD' 'LGG' 'LGG' 'LGG' 'COAD' 'LGG' 'SKCM'\n",
            " 'SKCM' 'SKCM' 'STAD' 'LGG' 'LUAD' 'LGG' 'SKCM' 'SKCM' 'SKCM' 'LGG' 'SKCM'\n",
            " 'SKCM']\n"
          ]
        }
      ]
    }
  ]
}