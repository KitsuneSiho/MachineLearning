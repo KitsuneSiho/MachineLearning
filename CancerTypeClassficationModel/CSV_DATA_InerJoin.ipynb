{
  "nbformat": 4,
  "nbformat_minor": 0,
  "metadata": {
    "colab": {
      "provenance": []
    },
    "kernelspec": {
      "name": "python3",
      "display_name": "Python 3"
    },
    "language_info": {
      "name": "python"
    }
  },
  "cells": [
    {
      "cell_type": "code",
      "execution_count": null,
      "metadata": {
        "id": "SrJBYFeEj0Ur"
      },
      "outputs": [],
      "source": [
        "import pandas as pd"
      ]
    },
    {
      "cell_type": "code",
      "source": [
        "# patient_1.csv 파일 읽기\n",
        "patient_1 = pd.read_csv('/content/drive/MyDrive/2023 AI/TRAIN TEST/TEST_PATIENT.csv')\n",
        "\n",
        "# patient_2.csv 파일 읽기\n",
        "patient_2 = pd.read_csv('/content/drive/MyDrive/2023 AI/TRAIN TEST/TEST_PATIENT_RNA.csv')"
      ],
      "metadata": {
        "id": "hXqfrM-okaRi"
      },
      "execution_count": null,
      "outputs": []
    },
    {
      "cell_type": "code",
      "source": [
        "# patient_1.csv와 patient_2.csv 파일을 PATIENT_ID 컬럼을 기준으로 내부 조인하여 병합\n",
        "merged = pd.merge(patient_1, patient_2, on='PATIENT_ID', how='inner')\n",
        "\n",
        "# 병합된 결과를 새로운 파일로 저장\n",
        "merged.to_csv('/content/drive/MyDrive/2023 AI/TRAIN TEST/TEST_V1.csv')"
      ],
      "metadata": {
        "id": "4d9QAzH2kkMd"
      },
      "execution_count": null,
      "outputs": []
    },
    {
      "cell_type": "code",
      "source": [],
      "metadata": {
        "id": "HjtSGcmrkvkZ"
      },
      "execution_count": null,
      "outputs": []
    }
  ]
}