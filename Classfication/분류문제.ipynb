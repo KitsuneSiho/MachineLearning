{
  "nbformat": 4,
  "nbformat_minor": 0,
  "metadata": {
    "colab": {
      "provenance": []
    },
    "kernelspec": {
      "name": "python3",
      "display_name": "Python 3"
    },
    "language_info": {
      "name": "python"
    }
  },
  "cells": [
    {
      "cell_type": "code",
      "execution_count": null,
      "metadata": {
        "id": "-mw4uf3uB5MO"
      },
      "outputs": [],
      "source": [
        "import pandas as pd\n",
        "from sklearn.model_selection import train_test_split\n",
        "from sklearn.tree import DecisionTreeClassifier\n",
        "from sklearn.ensemble import RandomForestClassifier\n",
        "from sklearn.metrics import accuracy_score, precision_score, recall_score, roc_auc_score, f1_score"
      ]
    },
    {
      "cell_type": "code",
      "source": [
        "df = pd.read_csv('/content/drive/MyDrive/2023 AI/과제/Glioblastoma.csv')\n",
        "X = df.drop(['diagnosis', 'id'], axis=1)\n",
        "y = df['diagnosis']\n",
        "X_train, X_test, y_train, y_test = train_test_split(X, y, test_size=0.2, random_state=42) #테스트와 트레이닝 데이터 2:8로 나눔"
      ],
      "metadata": {
        "id": "zsS0ndftB-GC"
      },
      "execution_count": null,
      "outputs": []
    },
    {
      "cell_type": "code",
      "source": [
        "#Decision Tree 모델학습시키디\n",
        "dtc = DecisionTreeClassifier(random_state=42)\n",
        "dtc.fit(X_train, y_train)\n",
        "y_pred_dtc = dtc.predict(X_test)"
      ],
      "metadata": {
        "id": "HISd42uTCyQw"
      },
      "execution_count": null,
      "outputs": []
    },
    {
      "cell_type": "code",
      "source": [
        "#Random Forest 모델학습시키기\n",
        "rfc = RandomForestClassifier(n_estimators=100, random_state=42)\n",
        "rfc.fit(X_train, y_train)\n",
        "y_pred_rfc = rfc.predict(X_test)"
      ],
      "metadata": {
        "id": "BLdpMISlC2Mj"
      },
      "execution_count": null,
      "outputs": []
    },
    {
      "cell_type": "code",
      "source": [
        "print('Decision Tree:')\n",
        "print(f'Accuracy: {accuracy_score(y_test, y_pred_dtc):.3f}')\n",
        "print(f'Precision: {precision_score(y_test, y_pred_dtc):.3f}')\n",
        "print(f'Recall: {recall_score(y_test, y_pred_dtc):.3f}')\n",
        "print(f'AUC: {roc_auc_score(y_test, y_pred_dtc):.3f}')\n",
        "print(f'F1-score: {f1_score(y_test, y_pred_dtc):.3f}')\n",
        "print()\n",
        "print('Random Forest:')\n",
        "print(f'Accuracy: {accuracy_score(y_test, y_pred_rfc):.3f}')\n",
        "print(f'Precision: {precision_score(y_test, y_pred_rfc):.3f}')\n",
        "print(f'Recall: {recall_score(y_test, y_pred_rfc):.3f}')\n",
        "print(f'AUC: {roc_auc_score(y_test, y_pred_rfc):.3f}')\n",
        "print(f'F1-score: {f1_score(y_test, y_pred_rfc):.3f}')"
      ],
      "metadata": {
        "colab": {
          "base_uri": "https://localhost:8080/"
        },
        "id": "rwAgehukEnnB",
        "outputId": "63508df8-5a1c-427a-9624-e7eaba9abed5"
      },
      "execution_count": null,
      "outputs": [
        {
          "output_type": "stream",
          "name": "stdout",
          "text": [
            "Decision Tree:\n",
            "Accuracy: 0.947\n",
            "Precision: 0.930\n",
            "Recall: 0.930\n",
            "AUC: 0.944\n",
            "F1-score: 0.930\n",
            "\n",
            "Random Forest:\n",
            "Accuracy: 0.965\n",
            "Precision: 0.976\n",
            "Recall: 0.930\n",
            "AUC: 0.958\n",
            "F1-score: 0.952\n"
          ]
        }
      ]
    }
  ]
}